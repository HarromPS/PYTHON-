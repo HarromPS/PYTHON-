{
 "cells": [
  {
   "cell_type": "markdown",
   "id": "d9ca6c46-fff0-4f06-aa21-769f7f92b8bf",
   "metadata": {},
   "source": [
    "# NUMPY(use # to create a heading)"
   ]
  },
  {
   "cell_type": "code",
   "execution_count": 1,
   "id": "c841398d-5df1-4d9b-b100-62afbab198b1",
   "metadata": {},
   "outputs": [],
   "source": [
    "# This is a cell\n",
    "\n",
    "# import numpy \n",
    "import numpy as np"
   ]
  },
  {
   "cell_type": "code",
   "execution_count": 2,
   "id": "f5ee199d-8e7d-4868-a7e6-6fecbb8071df",
   "metadata": {},
   "outputs": [],
   "source": [
    "# Array in numpy\n",
    "lst = [1,2,3]\n",
    "\n",
    "# a list of python is converted into numpy array\n",
    "myarr = np.array(lst)"
   ]
  },
  {
   "cell_type": "code",
   "execution_count": 3,
   "id": "9795971d-1008-402c-8b6b-972e865bf30f",
   "metadata": {},
   "outputs": [
    {
     "data": {
      "text/plain": [
       "array([1, 2, 3])"
      ]
     },
     "execution_count": 3,
     "metadata": {},
     "output_type": "execute_result"
    }
   ],
   "source": [
    "myarr"
   ]
  },
  {
   "cell_type": "code",
   "execution_count": 4,
   "id": "1ccc6982-90e0-4b3c-b71b-4d95cb6e9cd4",
   "metadata": {},
   "outputs": [
    {
     "data": {
      "text/plain": [
       "numpy.ndarray"
      ]
     },
     "execution_count": 4,
     "metadata": {},
     "output_type": "execute_result"
    }
   ],
   "source": [
    "type(myarr)"
   ]
  },
  {
   "cell_type": "code",
   "execution_count": 5,
   "id": "68553a60-f86e-49bc-8697-9cdaa4e7462f",
   "metadata": {},
   "outputs": [],
   "source": [
    "# creating a array of a particular bit size e.g 32 bit integer\n",
    "myarr = np.array([1,127,3], np.int8)"
   ]
  },
  {
   "cell_type": "code",
   "execution_count": 6,
   "id": "369e30c3-15dd-4b1a-bcfd-ccb1b1d1b72e",
   "metadata": {},
   "outputs": [
    {
     "data": {
      "text/plain": [
       "array([  1, 127,   3], dtype=int8)"
      ]
     },
     "execution_count": 6,
     "metadata": {},
     "output_type": "execute_result"
    }
   ],
   "source": [
    "myarr"
   ]
  },
  {
   "cell_type": "code",
   "execution_count": 7,
   "id": "f1510f13-56b6-4c60-ba20-e3d4b4e11c00",
   "metadata": {},
   "outputs": [
    {
     "data": {
      "text/plain": [
       "1"
      ]
     },
     "execution_count": 7,
     "metadata": {},
     "output_type": "execute_result"
    }
   ],
   "source": [
    "# Accessing the elements\n",
    "myarr[0]"
   ]
  },
  {
   "cell_type": "code",
   "execution_count": 8,
   "id": "c30f3a87-d639-40f4-998d-32f4bfa2185b",
   "metadata": {},
   "outputs": [],
   "source": [
    "# for 2d array\n",
    "myarr = np.array([[1,2,3]], np.int32)"
   ]
  },
  {
   "cell_type": "code",
   "execution_count": 9,
   "id": "eacb2409-8359-4df4-8d10-b1eedc5fd3b5",
   "metadata": {},
   "outputs": [
    {
     "data": {
      "text/plain": [
       "array([[1, 2, 3]])"
      ]
     },
     "execution_count": 9,
     "metadata": {},
     "output_type": "execute_result"
    }
   ],
   "source": [
    "myarr"
   ]
  },
  {
   "cell_type": "code",
   "execution_count": 10,
   "id": "eb268a0a-7584-4cff-94b5-2cb067e9ce00",
   "metadata": {},
   "outputs": [
    {
     "data": {
      "text/plain": [
       "array([1, 2, 3])"
      ]
     },
     "execution_count": 10,
     "metadata": {},
     "output_type": "execute_result"
    }
   ],
   "source": [
    "# Accessing elements of 2D array\n",
    "myarr[0]"
   ]
  },
  {
   "cell_type": "code",
   "execution_count": 11,
   "id": "63ac17da-e4b3-4d9c-8613-b99142f59cd6",
   "metadata": {},
   "outputs": [
    {
     "data": {
      "text/plain": [
       "2"
      ]
     },
     "execution_count": 11,
     "metadata": {},
     "output_type": "execute_result"
    }
   ],
   "source": [
    "# 1st array from 2D array -> got 1D array\n",
    "# 1st element from 1D array\n",
    "myarr[0, 1]"
   ]
  },
  {
   "cell_type": "code",
   "execution_count": 12,
   "id": "d7c9843c-635e-4bdf-9b69-4d93608ed458",
   "metadata": {},
   "outputs": [],
   "source": [
    "# changing the value of the cell\n",
    "myarr[0, 1] = 100"
   ]
  },
  {
   "cell_type": "code",
   "execution_count": 13,
   "id": "8382dee4-e25d-4f1f-82ae-b815fa8ebfe5",
   "metadata": {},
   "outputs": [
    {
     "data": {
      "text/plain": [
       "(1, 3)"
      ]
     },
     "execution_count": 13,
     "metadata": {},
     "output_type": "execute_result"
    }
   ],
   "source": [
    "# get the structure of the array\n",
    "myarr.shape"
   ]
  },
  {
   "cell_type": "code",
   "execution_count": 14,
   "id": "14e96464-dab1-4069-bff6-05669a8f0317",
   "metadata": {},
   "outputs": [
    {
     "data": {
      "text/plain": [
       "dtype('int32')"
      ]
     },
     "execution_count": 14,
     "metadata": {},
     "output_type": "execute_result"
    }
   ],
   "source": [
    "# get the dtype\n",
    "myarr.dtype"
   ]
  },
  {
   "cell_type": "code",
   "execution_count": 15,
   "id": "44e16e3f-b9df-4778-8003-d54f60f849ea",
   "metadata": {},
   "outputs": [],
   "source": [
    "# 1) Conversion from other python structures(list, tuples, dict, strings)"
   ]
  },
  {
   "cell_type": "code",
   "execution_count": 16,
   "id": "f51de03d-1799-40a5-a13b-0c094045bae1",
   "metadata": {},
   "outputs": [],
   "source": [
    "# List\n",
    "listArray = np.array([[1,2,3], [ 23,43,54], [98,48,62]])"
   ]
  },
  {
   "cell_type": "code",
   "execution_count": 17,
   "id": "09e3407e-960c-47d7-9508-c04bf9777c16",
   "metadata": {},
   "outputs": [
    {
     "data": {
      "text/plain": [
       "array([[ 1,  2,  3],\n",
       "       [23, 43, 54],\n",
       "       [98, 48, 62]])"
      ]
     },
     "execution_count": 17,
     "metadata": {},
     "output_type": "execute_result"
    }
   ],
   "source": [
    "listArray"
   ]
  },
  {
   "cell_type": "code",
   "execution_count": 18,
   "id": "922fc280-feed-4983-bf21-04307f002989",
   "metadata": {},
   "outputs": [
    {
     "data": {
      "text/plain": [
       "9"
      ]
     },
     "execution_count": 18,
     "metadata": {},
     "output_type": "execute_result"
    }
   ],
   "source": [
    "listArray.size"
   ]
  },
  {
   "cell_type": "code",
   "execution_count": 19,
   "id": "a62e1c89-ca22-4c38-9811-2fec47fab104",
   "metadata": {},
   "outputs": [
    {
     "data": {
      "text/plain": [
       "(3, 3)"
      ]
     },
     "execution_count": 19,
     "metadata": {},
     "output_type": "execute_result"
    }
   ],
   "source": [
    "listArray.shape"
   ]
  },
  {
   "cell_type": "code",
   "execution_count": 20,
   "id": "e107f483-c8f2-4adf-8efe-2f46ffa55647",
   "metadata": {},
   "outputs": [
    {
     "data": {
      "text/plain": [
       "dtype('int32')"
      ]
     },
     "execution_count": 20,
     "metadata": {},
     "output_type": "execute_result"
    }
   ],
   "source": [
    "listArray.dtype"
   ]
  },
  {
   "cell_type": "code",
   "execution_count": 21,
   "id": "7dac4644-8b38-4046-8509-34dc306489d4",
   "metadata": {},
   "outputs": [],
   "source": [
    "listArray[1, 2] = 500"
   ]
  },
  {
   "cell_type": "code",
   "execution_count": 22,
   "id": "b2144944-9caa-4990-b6d0-d4f5c10c37f5",
   "metadata": {},
   "outputs": [
    {
     "data": {
      "text/plain": [
       "array([[  1,   2,   3],\n",
       "       [ 23,  43, 500],\n",
       "       [ 98,  48,  62]])"
      ]
     },
     "execution_count": 22,
     "metadata": {},
     "output_type": "execute_result"
    }
   ],
   "source": [
    "listArray"
   ]
  },
  {
   "cell_type": "code",
   "execution_count": 23,
   "id": "ea80a966-ced0-44f5-8782-4a29c62e23d3",
   "metadata": {},
   "outputs": [],
   "source": [
    "# Dict\n",
    "dictArray = np.array({12,23,34})"
   ]
  },
  {
   "cell_type": "code",
   "execution_count": 24,
   "id": "7de60036-897f-4e4b-a491-ed4aee44bf9b",
   "metadata": {},
   "outputs": [
    {
     "data": {
      "text/plain": [
       "array({34, 12, 23}, dtype=object)"
      ]
     },
     "execution_count": 24,
     "metadata": {},
     "output_type": "execute_result"
    }
   ],
   "source": [
    "# not recommended\n",
    "dictArray"
   ]
  },
  {
   "cell_type": "code",
   "execution_count": 25,
   "id": "f460bc74-00c0-4cb4-b769-cf9cc9d1a290",
   "metadata": {},
   "outputs": [],
   "source": [
    "# 2) Intrinsic numpy array creation -> functions to create array"
   ]
  },
  {
   "cell_type": "code",
   "execution_count": 26,
   "id": "28798692-fc20-4cf4-acf9-89ca30b3aab7",
   "metadata": {},
   "outputs": [],
   "source": [
    "# zeros \n",
    "\n",
    "# only 1 row  &2 column i.e a 1D array of zeros\n",
    "zeros = np.zeros(2)"
   ]
  },
  {
   "cell_type": "code",
   "execution_count": 27,
   "id": "ba66c15f-1d29-400c-9fac-dc140129a702",
   "metadata": {},
   "outputs": [
    {
     "data": {
      "text/plain": [
       "array([0., 0.])"
      ]
     },
     "execution_count": 27,
     "metadata": {},
     "output_type": "execute_result"
    }
   ],
   "source": [
    "zeros"
   ]
  },
  {
   "cell_type": "code",
   "execution_count": 28,
   "id": "f0a53423-e3fc-46f7-947e-a0b7d8b926d7",
   "metadata": {},
   "outputs": [
    {
     "data": {
      "text/plain": [
       "dtype('float64')"
      ]
     },
     "execution_count": 28,
     "metadata": {},
     "output_type": "execute_result"
    }
   ],
   "source": [
    "zeros.dtype"
   ]
  },
  {
   "cell_type": "code",
   "execution_count": 29,
   "id": "20d77e34-a68d-4a8c-b903-62edce1185a6",
   "metadata": {},
   "outputs": [
    {
     "data": {
      "text/plain": [
       "(2,)"
      ]
     },
     "execution_count": 29,
     "metadata": {},
     "output_type": "execute_result"
    }
   ],
   "source": [
    "zeros.shape"
   ]
  },
  {
   "cell_type": "code",
   "execution_count": 30,
   "id": "3027c284-6f93-4949-8ce6-1802b0d9eab5",
   "metadata": {},
   "outputs": [
    {
     "data": {
      "text/plain": [
       "2"
      ]
     },
     "execution_count": 30,
     "metadata": {},
     "output_type": "execute_result"
    }
   ],
   "source": [
    "zeros.size"
   ]
  },
  {
   "cell_type": "code",
   "execution_count": 31,
   "id": "e22492ac-493d-450d-907f-72e9da8a59e6",
   "metadata": {},
   "outputs": [],
   "source": [
    "# 2D zeros\n",
    "\n",
    "# 2 rows & 5 columns\n",
    "zeros = np.zeros((2,5))"
   ]
  },
  {
   "cell_type": "code",
   "execution_count": 32,
   "id": "91bc6a9d-c601-40bc-894b-7b2126e80c48",
   "metadata": {},
   "outputs": [
    {
     "data": {
      "text/plain": [
       "array([[0., 0., 0., 0., 0.],\n",
       "       [0., 0., 0., 0., 0.]])"
      ]
     },
     "execution_count": 32,
     "metadata": {},
     "output_type": "execute_result"
    }
   ],
   "source": [
    "zeros"
   ]
  },
  {
   "cell_type": "code",
   "execution_count": 33,
   "id": "bf3b919a-e1be-4472-91e3-bf1c391c79be",
   "metadata": {},
   "outputs": [
    {
     "data": {
      "text/plain": [
       "dtype('float64')"
      ]
     },
     "execution_count": 33,
     "metadata": {},
     "output_type": "execute_result"
    }
   ],
   "source": [
    "zeros.dtype"
   ]
  },
  {
   "cell_type": "code",
   "execution_count": 34,
   "id": "cb6377b5-0334-4a53-897a-ef5c3afe9758",
   "metadata": {},
   "outputs": [
    {
     "data": {
      "text/plain": [
       "(2, 5)"
      ]
     },
     "execution_count": 34,
     "metadata": {},
     "output_type": "execute_result"
    }
   ],
   "source": [
    "zeros.shape"
   ]
  },
  {
   "cell_type": "code",
   "execution_count": 35,
   "id": "b32de435-3ad0-4cb8-9f26-4001bb375f39",
   "metadata": {},
   "outputs": [
    {
     "data": {
      "text/plain": [
       "10"
      ]
     },
     "execution_count": 35,
     "metadata": {},
     "output_type": "execute_result"
    }
   ],
   "source": [
    "zeros.size"
   ]
  },
  {
   "cell_type": "code",
   "execution_count": 36,
   "id": "bf6065d1-f4ad-4178-b302-958e437d86df",
   "metadata": {},
   "outputs": [],
   "source": [
    "# ones\n",
    "ones = np.ones(3)"
   ]
  },
  {
   "cell_type": "code",
   "execution_count": 37,
   "id": "3063ee4a-26c5-4200-a859-e16435701431",
   "metadata": {},
   "outputs": [
    {
     "data": {
      "text/plain": [
       "array([1., 1., 1.])"
      ]
     },
     "execution_count": 37,
     "metadata": {},
     "output_type": "execute_result"
    }
   ],
   "source": [
    "ones"
   ]
  },
  {
   "cell_type": "code",
   "execution_count": 38,
   "id": "1b61cdc9-4239-4b8b-9842-5862225e2561",
   "metadata": {},
   "outputs": [],
   "source": [
    "# 2D ones\n",
    "\n",
    "# 2 rows & 5 columns\n",
    "ones = np.ones((2,5))"
   ]
  },
  {
   "cell_type": "code",
   "execution_count": 39,
   "id": "39896ca1-f188-4fa7-8478-33e82abdf60e",
   "metadata": {},
   "outputs": [
    {
     "data": {
      "text/plain": [
       "array([[1., 1., 1., 1., 1.],\n",
       "       [1., 1., 1., 1., 1.]])"
      ]
     },
     "execution_count": 39,
     "metadata": {},
     "output_type": "execute_result"
    }
   ],
   "source": [
    "ones"
   ]
  },
  {
   "cell_type": "code",
   "execution_count": 40,
   "id": "06f7f492-a2e8-4d31-bbe2-b596bd2de03f",
   "metadata": {},
   "outputs": [
    {
     "data": {
      "text/plain": [
       "dtype('float64')"
      ]
     },
     "execution_count": 40,
     "metadata": {},
     "output_type": "execute_result"
    }
   ],
   "source": [
    "ones.dtype"
   ]
  },
  {
   "cell_type": "code",
   "execution_count": 41,
   "id": "13ec73e4-ea8d-4451-86c5-8735e94219b7",
   "metadata": {},
   "outputs": [
    {
     "data": {
      "text/plain": [
       "(2, 5)"
      ]
     },
     "execution_count": 41,
     "metadata": {},
     "output_type": "execute_result"
    }
   ],
   "source": [
    "ones.shape"
   ]
  },
  {
   "cell_type": "code",
   "execution_count": 42,
   "id": "ffe91f20-fad5-4486-8336-65c5e5cf1598",
   "metadata": {},
   "outputs": [
    {
     "data": {
      "text/plain": [
       "10"
      ]
     },
     "execution_count": 42,
     "metadata": {},
     "output_type": "execute_result"
    }
   ],
   "source": [
    "ones.size"
   ]
  },
  {
   "cell_type": "code",
   "execution_count": 43,
   "id": "848aa214-8a2a-4ec7-8240-ce1b7f1b2b41",
   "metadata": {},
   "outputs": [],
   "source": [
    "ones[0, 1]=2.3"
   ]
  },
  {
   "cell_type": "code",
   "execution_count": 44,
   "id": "7deeaf18-1f93-4d8e-99b4-c916d37e8d37",
   "metadata": {},
   "outputs": [
    {
     "data": {
      "text/plain": [
       "array([[1. , 2.3, 1. , 1. , 1. ],\n",
       "       [1. , 1. , 1. , 1. , 1. ]])"
      ]
     },
     "execution_count": 44,
     "metadata": {},
     "output_type": "execute_result"
    }
   ],
   "source": [
    "ones"
   ]
  },
  {
   "cell_type": "code",
   "execution_count": 45,
   "id": "e4063eff-13ee-4710-8b39-8cef89bc3b47",
   "metadata": {},
   "outputs": [],
   "source": [
    "# arange -> just like range function in python \n",
    "# creates an array with 0 to (n-1) range\n",
    "\n",
    "rng = np.arange(10)"
   ]
  },
  {
   "cell_type": "code",
   "execution_count": 46,
   "id": "8922a054-4d9c-4df5-9425-3d46930bed41",
   "metadata": {},
   "outputs": [
    {
     "data": {
      "text/plain": [
       "array([0, 1, 2, 3, 4, 5, 6, 7, 8, 9])"
      ]
     },
     "execution_count": 46,
     "metadata": {},
     "output_type": "execute_result"
    }
   ],
   "source": [
    "rng"
   ]
  },
  {
   "cell_type": "code",
   "execution_count": 47,
   "id": "abe42936-90a3-463f-917b-d1854f839271",
   "metadata": {},
   "outputs": [],
   "source": [
    "lspace = np.linspace(1,50,10)"
   ]
  },
  {
   "cell_type": "code",
   "execution_count": 48,
   "id": "1e310b30-e35c-409b-8a62-569869178869",
   "metadata": {},
   "outputs": [
    {
     "data": {
      "text/plain": [
       "array([ 1.        ,  6.44444444, 11.88888889, 17.33333333, 22.77777778,\n",
       "       28.22222222, 33.66666667, 39.11111111, 44.55555556, 50.        ])"
      ]
     },
     "execution_count": 48,
     "metadata": {},
     "output_type": "execute_result"
    }
   ],
   "source": [
    "lspace"
   ]
  },
  {
   "cell_type": "code",
   "execution_count": 49,
   "id": "ec32ea07-2755-469c-81bb-e4c68b4f9498",
   "metadata": {},
   "outputs": [],
   "source": [
    "# empty array\n",
    "\n",
    "# creates an empty array of the given size filled with random values\n",
    "# provide args as tuple if > 1 \n",
    "emp = np.empty((2,2))"
   ]
  },
  {
   "cell_type": "code",
   "execution_count": 50,
   "id": "eed054d0-aa02-44a3-b63f-a26cf8757cb7",
   "metadata": {},
   "outputs": [
    {
     "data": {
      "text/plain": [
       "array([[2.12199579e-314, 1.18831764e-311],\n",
       "       [6.67976753e-321, 6.95250701e-310]])"
      ]
     },
     "execution_count": 50,
     "metadata": {},
     "output_type": "execute_result"
    }
   ],
   "source": [
    "emp"
   ]
  },
  {
   "cell_type": "code",
   "execution_count": 51,
   "id": "5cb13694-8fde-4e85-bfc2-e07128065606",
   "metadata": {},
   "outputs": [],
   "source": [
    "# empty like array \n",
    "# uses previously created array's size to create an empty array\n",
    "\n",
    "emp_like = np.empty_like(lspace)"
   ]
  },
  {
   "cell_type": "code",
   "execution_count": 52,
   "id": "07f3692f-c329-4444-80ab-80570fc664fe",
   "metadata": {},
   "outputs": [
    {
     "data": {
      "text/plain": [
       "array([ 1.        ,  6.44444444, 11.88888889, 17.33333333, 22.77777778,\n",
       "       28.22222222, 33.66666667, 39.11111111, 44.55555556, 50.        ])"
      ]
     },
     "execution_count": 52,
     "metadata": {},
     "output_type": "execute_result"
    }
   ],
   "source": [
    "emp_like"
   ]
  },
  {
   "cell_type": "code",
   "execution_count": 53,
   "id": "682a26c0-fa1b-4f29-9994-6a4273cd7a9d",
   "metadata": {},
   "outputs": [],
   "source": [
    "# identity matrix\n",
    "\n",
    "# creates an identity matrix of size n x n\n",
    "ide = np.identity(2)"
   ]
  },
  {
   "cell_type": "code",
   "execution_count": 54,
   "id": "58332557-099d-4a50-94be-305d113223af",
   "metadata": {},
   "outputs": [
    {
     "data": {
      "text/plain": [
       "array([[1., 0.],\n",
       "       [0., 1.]])"
      ]
     },
     "execution_count": 54,
     "metadata": {},
     "output_type": "execute_result"
    }
   ],
   "source": [
    "ide"
   ]
  },
  {
   "cell_type": "code",
   "execution_count": 55,
   "id": "f70ee644-ddcd-4f65-bc6c-8e496f59a284",
   "metadata": {},
   "outputs": [
    {
     "data": {
      "text/plain": [
       "(2, 2)"
      ]
     },
     "execution_count": 55,
     "metadata": {},
     "output_type": "execute_result"
    }
   ],
   "source": [
    "ide.shape"
   ]
  },
  {
   "cell_type": "code",
   "execution_count": 56,
   "id": "931c4330-8c29-49aa-a310-b97bc441482d",
   "metadata": {},
   "outputs": [],
   "source": [
    "# reshaping the array created from arange\n",
    "\n",
    "arr = np.arange(99)"
   ]
  },
  {
   "cell_type": "code",
   "execution_count": 57,
   "id": "21c18b5f-bf91-4570-bf30-b39669ec72ee",
   "metadata": {},
   "outputs": [
    {
     "data": {
      "text/plain": [
       "array([ 0,  1,  2,  3,  4,  5,  6,  7,  8,  9, 10, 11, 12, 13, 14, 15, 16,\n",
       "       17, 18, 19, 20, 21, 22, 23, 24, 25, 26, 27, 28, 29, 30, 31, 32, 33,\n",
       "       34, 35, 36, 37, 38, 39, 40, 41, 42, 43, 44, 45, 46, 47, 48, 49, 50,\n",
       "       51, 52, 53, 54, 55, 56, 57, 58, 59, 60, 61, 62, 63, 64, 65, 66, 67,\n",
       "       68, 69, 70, 71, 72, 73, 74, 75, 76, 77, 78, 79, 80, 81, 82, 83, 84,\n",
       "       85, 86, 87, 88, 89, 90, 91, 92, 93, 94, 95, 96, 97, 98])"
      ]
     },
     "execution_count": 57,
     "metadata": {},
     "output_type": "execute_result"
    }
   ],
   "source": [
    "arr"
   ]
  },
  {
   "cell_type": "code",
   "execution_count": 58,
   "id": "f3bde44d-e32b-4319-a3bc-1479a0a0efd8",
   "metadata": {},
   "outputs": [
    {
     "data": {
      "text/plain": [
       "numpy._ArrayFunctionDispatcher"
      ]
     },
     "execution_count": 58,
     "metadata": {},
     "output_type": "execute_result"
    }
   ],
   "source": [
    "# use reshape array function of numpy\n",
    "type(np.reshape)\n"
   ]
  },
  {
   "cell_type": "code",
   "execution_count": 59,
   "id": "fa48d6e1-0260-4818-8095-981bea754b21",
   "metadata": {},
   "outputs": [
    {
     "data": {
      "text/plain": [
       "array([[ 0,  1,  2,  3,  4,  5,  6,  7,  8,  9, 10, 11, 12, 13, 14, 15,\n",
       "        16, 17, 18, 19, 20, 21, 22, 23, 24, 25, 26, 27, 28, 29, 30, 31,\n",
       "        32],\n",
       "       [33, 34, 35, 36, 37, 38, 39, 40, 41, 42, 43, 44, 45, 46, 47, 48,\n",
       "        49, 50, 51, 52, 53, 54, 55, 56, 57, 58, 59, 60, 61, 62, 63, 64,\n",
       "        65],\n",
       "       [66, 67, 68, 69, 70, 71, 72, 73, 74, 75, 76, 77, 78, 79, 80, 81,\n",
       "        82, 83, 84, 85, 86, 87, 88, 89, 90, 91, 92, 93, 94, 95, 96, 97,\n",
       "        98]])"
      ]
     },
     "execution_count": 59,
     "metadata": {},
     "output_type": "execute_result"
    }
   ],
   "source": [
    "# Note: 3, 33 gives 99, so the numbers should be equal to n when multiplied back else will not reshape any array\n",
    "\n",
    "arr.reshape(3,33) "
   ]
  },
  {
   "attachments": {},
   "cell_type": "markdown",
   "id": "31d0345b-4aa4-4f77-b5d5-5889a3312af9",
   "metadata": {},
   "source": [
    "# Numpy Axis"
   ]
  },
  {
   "cell_type": "code",
   "execution_count": 60,
   "id": "9bccaf6a-43a8-4417-88cf-0b5d7722d914",
   "metadata": {},
   "outputs": [],
   "source": [
    "# 1D array -> one & only axis i.e axis 0 (row in this case)\n",
    "# 2D array -> 2 axis i.e axis 0(collection of rows) and axis 1 (collection of columns) \n",
    "\n",
    "a = [1,2,3]\n",
    "arr = np.array(a)"
   ]
  },
  {
   "cell_type": "code",
   "execution_count": 61,
   "id": "1deb6d7f-6bd7-461a-a5ae-205c4e41de82",
   "metadata": {},
   "outputs": [
    {
     "data": {
      "text/plain": [
       "array([1, 2, 3])"
      ]
     },
     "execution_count": 61,
     "metadata": {},
     "output_type": "execute_result"
    }
   ],
   "source": [
    "arr"
   ]
  },
  {
   "cell_type": "code",
   "execution_count": 62,
   "id": "a7497fa7-690d-4c37-989a-56b0945d2659",
   "metadata": {},
   "outputs": [
    {
     "data": {
      "text/plain": [
       "6"
      ]
     },
     "execution_count": 62,
     "metadata": {},
     "output_type": "execute_result"
    }
   ],
   "source": [
    "# to get sum of the axis 0 \n",
    "arr.sum(axis=0)"
   ]
  },
  {
   "cell_type": "code",
   "execution_count": 63,
   "id": "1afbb6dd-c963-4d84-98de-ab1f72e5fc74",
   "metadata": {},
   "outputs": [
    {
     "data": {
      "text/plain": [
       "array([1, 2, 3])"
      ]
     },
     "execution_count": 63,
     "metadata": {},
     "output_type": "execute_result"
    }
   ],
   "source": [
    "arr.T"
   ]
  },
  {
   "cell_type": "code",
   "execution_count": 64,
   "id": "dddd5290-5ceb-4902-847e-d0b7f1abf075",
   "metadata": {},
   "outputs": [],
   "source": [
    "# 2D array\n",
    "a = [[1,2,3], [4,5,6], [7,8,9]] \n",
    "arr = np.array(a)"
   ]
  },
  {
   "cell_type": "code",
   "execution_count": 65,
   "id": "ac3155ab-c121-45ac-8eea-f5a1ef5171b9",
   "metadata": {},
   "outputs": [
    {
     "data": {
      "text/plain": [
       "array([[1, 2, 3],\n",
       "       [4, 5, 6],\n",
       "       [7, 8, 9]])"
      ]
     },
     "execution_count": 65,
     "metadata": {},
     "output_type": "execute_result"
    }
   ],
   "source": [
    "arr"
   ]
  },
  {
   "cell_type": "code",
   "execution_count": 66,
   "id": "46cf12ae-e955-459c-8183-fe29dc3309df",
   "metadata": {},
   "outputs": [
    {
     "data": {
      "text/plain": [
       "array([12, 15, 18])"
      ]
     },
     "execution_count": 66,
     "metadata": {},
     "output_type": "execute_result"
    }
   ],
   "source": [
    "# Attributes\n",
    "# sum of each column (1,4,7 ... ) \n",
    "\n",
    "sum = arr.sum(axis=0)\n",
    "sum"
   ]
  },
  {
   "cell_type": "code",
   "execution_count": 67,
   "id": "712009d4-7a36-4219-a483-6baaf47e52d8",
   "metadata": {},
   "outputs": [
    {
     "data": {
      "text/plain": [
       "array([ 6, 15, 24])"
      ]
     },
     "execution_count": 67,
     "metadata": {},
     "output_type": "execute_result"
    }
   ],
   "source": [
    "# sum of each row ( 1,2,3 ... ) \n",
    "sum=arr.sum(axis=1)\n",
    "sum"
   ]
  },
  {
   "cell_type": "code",
   "execution_count": 68,
   "id": "b257192f-a378-45a2-99ed-fff1a142b5b1",
   "metadata": {},
   "outputs": [
    {
     "data": {
      "text/plain": [
       "array([[1, 4, 7],\n",
       "       [2, 5, 8],\n",
       "       [3, 6, 9]])"
      ]
     },
     "execution_count": 68,
     "metadata": {},
     "output_type": "execute_result"
    }
   ],
   "source": [
    "# Transpose the array\n",
    "at = arr.T\n",
    "at"
   ]
  },
  {
   "cell_type": "code",
   "execution_count": 69,
   "id": "318c9a76-75cf-4dde-8274-4a5d2359173a",
   "metadata": {},
   "outputs": [
    {
     "data": {
      "text/plain": [
       "9"
      ]
     },
     "execution_count": 69,
     "metadata": {},
     "output_type": "execute_result"
    }
   ],
   "source": [
    "# size of the array\n",
    "arr.size"
   ]
  },
  {
   "cell_type": "code",
   "execution_count": 70,
   "id": "ed3b4951-2cac-4544-bb95-590afcbcac95",
   "metadata": {},
   "outputs": [
    {
     "data": {
      "text/plain": [
       "2"
      ]
     },
     "execution_count": 70,
     "metadata": {},
     "output_type": "execute_result"
    }
   ],
   "source": [
    "# dimension of the array\n",
    "arr.ndim"
   ]
  },
  {
   "cell_type": "code",
   "execution_count": 71,
   "id": "2a9113b6-78e6-46e0-b204-38ba6aa7f5fa",
   "metadata": {},
   "outputs": [
    {
     "data": {
      "text/plain": [
       "<numpy.flatiter at 0x2307eca6060>"
      ]
     },
     "execution_count": 71,
     "metadata": {},
     "output_type": "execute_result"
    }
   ],
   "source": [
    "# flatten 2D array -> 1D array coversion\n",
    "af= arr.flat\n",
    "af"
   ]
  },
  {
   "cell_type": "code",
   "execution_count": 72,
   "id": "ecc0c174-71ff-4adf-a5a3-bea4dc068b13",
   "metadata": {},
   "outputs": [
    {
     "name": "stdout",
     "output_type": "stream",
     "text": [
      "1 2 3 4 5 6 7 8 9 "
     ]
    }
   ],
   "source": [
    "for ele in af:\n",
    "    print(ele,end=\" \")"
   ]
  },
  {
   "cell_type": "code",
   "execution_count": 73,
   "id": "bc61230d-32cb-4660-9bde-4de411e78608",
   "metadata": {},
   "outputs": [
    {
     "data": {
      "text/plain": [
       "36"
      ]
     },
     "execution_count": 73,
     "metadata": {},
     "output_type": "execute_result"
    }
   ],
   "source": [
    "# get the size consumed by an array\n",
    "s = arr.nbytes\n",
    "s"
   ]
  },
  {
   "cell_type": "code",
   "execution_count": 74,
   "id": "4a1e7368-43ea-458c-b8d3-e08989c7d785",
   "metadata": {},
   "outputs": [
    {
     "data": {
      "text/plain": [
       "array([1, 3, 2, 4])"
      ]
     },
     "execution_count": 74,
     "metadata": {},
     "output_type": "execute_result"
    }
   ],
   "source": [
    "# Methods args\n",
    "\n",
    "# for 1D array\n",
    "arr = np.array([1,3,2,4])\n",
    "arr"
   ]
  },
  {
   "cell_type": "code",
   "execution_count": 75,
   "id": "e6fd163d-bc26-41fd-975c-a39a73e1b889",
   "metadata": {},
   "outputs": [
    {
     "data": {
      "text/plain": [
       "3"
      ]
     },
     "execution_count": 75,
     "metadata": {},
     "output_type": "execute_result"
    }
   ],
   "source": [
    "# returns the index of max element in the array\n",
    "arr.argmax()"
   ]
  },
  {
   "cell_type": "code",
   "execution_count": 76,
   "id": "a3c8489b-75d5-404e-b192-055ba5bbc6b3",
   "metadata": {},
   "outputs": [
    {
     "data": {
      "text/plain": [
       "0"
      ]
     },
     "execution_count": 76,
     "metadata": {},
     "output_type": "execute_result"
    }
   ],
   "source": [
    "# returns the index of min element in the array\n",
    "arr.argmin()"
   ]
  },
  {
   "cell_type": "code",
   "execution_count": 77,
   "id": "01b94874-6dff-47d9-a53f-eee933d70ffc",
   "metadata": {},
   "outputs": [
    {
     "data": {
      "text/plain": [
       "array([0, 2, 1, 3], dtype=int64)"
      ]
     },
     "execution_count": 77,
     "metadata": {},
     "output_type": "execute_result"
    }
   ],
   "source": [
    "# returns the array of sorted index when the elements are in sorted order\n",
    "arr.argsort()"
   ]
  },
  {
   "cell_type": "code",
   "execution_count": 78,
   "id": "d0de16c6-95af-46b6-b138-f5c0abd43658",
   "metadata": {},
   "outputs": [
    {
     "data": {
      "text/plain": [
       "array([[1, 2, 3],\n",
       "       [4, 5, 6],\n",
       "       [7, 8, 9]])"
      ]
     },
     "execution_count": 78,
     "metadata": {},
     "output_type": "execute_result"
    }
   ],
   "source": [
    "# for 2D array\n",
    "arr = np.array([[1,2,3], [4,5,6], [7,8,9]])\n",
    "arr"
   ]
  },
  {
   "cell_type": "code",
   "execution_count": 79,
   "id": "1a825e49-b730-4c9c-b705-cb909d90fefc",
   "metadata": {},
   "outputs": [
    {
     "data": {
      "text/plain": [
       "8"
      ]
     },
     "execution_count": 79,
     "metadata": {},
     "output_type": "execute_result"
    }
   ],
   "source": [
    "# max & min index after flattening to 1D array\n",
    "arr.argmax()"
   ]
  },
  {
   "cell_type": "code",
   "execution_count": 80,
   "id": "dde84790-3a1c-4e05-bd7d-5bac1d5b693a",
   "metadata": {},
   "outputs": [
    {
     "data": {
      "text/plain": [
       "0"
      ]
     },
     "execution_count": 80,
     "metadata": {},
     "output_type": "execute_result"
    }
   ],
   "source": [
    "arr.argmin()"
   ]
  },
  {
   "cell_type": "code",
   "execution_count": 81,
   "id": "5a38b7ea-2708-4ce0-9eea-11f69f6b065b",
   "metadata": {},
   "outputs": [
    {
     "data": {
      "text/plain": [
       "array([2, 2, 2], dtype=int64)"
      ]
     },
     "execution_count": 81,
     "metadata": {},
     "output_type": "execute_result"
    }
   ],
   "source": [
    "# max of each column (axis 0) \n",
    "arr.argmax(axis=0)"
   ]
  },
  {
   "cell_type": "code",
   "execution_count": 82,
   "id": "15b8f8ff-ecbd-41e0-b36f-9d3fc09d0639",
   "metadata": {},
   "outputs": [
    {
     "data": {
      "text/plain": [
       "array([0, 0, 0], dtype=int64)"
      ]
     },
     "execution_count": 82,
     "metadata": {},
     "output_type": "execute_result"
    }
   ],
   "source": [
    "# min\n",
    "arr.argmin(axis=1)"
   ]
  },
  {
   "cell_type": "code",
   "execution_count": 83,
   "id": "2b4968aa-50a1-41ac-98f8-66c301bfe83f",
   "metadata": {},
   "outputs": [
    {
     "data": {
      "text/plain": [
       "array([2, 2, 2], dtype=int64)"
      ]
     },
     "execution_count": 83,
     "metadata": {},
     "output_type": "execute_result"
    }
   ],
   "source": [
    "# max of each row(axis=1)\n",
    "arr.argmax(axis=1)"
   ]
  },
  {
   "cell_type": "code",
   "execution_count": 84,
   "id": "817a0b7b-2a6c-442b-99c5-9ff5c68c3dfb",
   "metadata": {},
   "outputs": [
    {
     "data": {
      "text/plain": [
       "array([0, 0, 0], dtype=int64)"
      ]
     },
     "execution_count": 84,
     "metadata": {},
     "output_type": "execute_result"
    }
   ],
   "source": [
    "# min of every row\n",
    "arr.argmin(axis=1)"
   ]
  },
  {
   "cell_type": "code",
   "execution_count": 85,
   "id": "d6b6d4bd-5171-4e81-ac56-3b5aa1654579",
   "metadata": {},
   "outputs": [
    {
     "data": {
      "text/plain": [
       "array([[0, 1, 2],\n",
       "       [0, 1, 2],\n",
       "       [0, 1, 2]], dtype=int64)"
      ]
     },
     "execution_count": 85,
     "metadata": {},
     "output_type": "execute_result"
    }
   ],
   "source": [
    "# sorted form of 2D array\n",
    "arr.argsort()"
   ]
  },
  {
   "cell_type": "code",
   "execution_count": 86,
   "id": "c0632ec3-fd90-4526-9a26-75d81d591007",
   "metadata": {},
   "outputs": [
    {
     "data": {
      "text/plain": [
       "array([[0, 0, 0],\n",
       "       [1, 1, 1],\n",
       "       [2, 2, 2]], dtype=int64)"
      ]
     },
     "execution_count": 86,
     "metadata": {},
     "output_type": "execute_result"
    }
   ],
   "source": [
    "# sorted form of each column\n",
    "arr.argsort(axis=0)"
   ]
  },
  {
   "cell_type": "code",
   "execution_count": 87,
   "id": "298e79e1-2fa2-41ad-a8be-c92a1aaae54a",
   "metadata": {},
   "outputs": [
    {
     "data": {
      "text/plain": [
       "array([[0, 1, 2],\n",
       "       [0, 1, 2],\n",
       "       [0, 1, 2]], dtype=int64)"
      ]
     },
     "execution_count": 87,
     "metadata": {},
     "output_type": "execute_result"
    }
   ],
   "source": [
    "# sorted form of each row\n",
    "arr.argsort(axis=1)"
   ]
  },
  {
   "cell_type": "markdown",
   "id": "bb164d23-83d3-4309-b8e3-3bc546a94e23",
   "metadata": {},
   "source": [
    "# Matrix operations"
   ]
  },
  {
   "cell_type": "code",
   "execution_count": 88,
   "id": "e5f4a2b9-057a-42ed-b487-e6d711dcd5bf",
   "metadata": {},
   "outputs": [
    {
     "data": {
      "text/plain": [
       "array([[1, 2, 3],\n",
       "       [2, 1, 3],\n",
       "       [4, 2, 4]])"
      ]
     },
     "execution_count": 88,
     "metadata": {},
     "output_type": "execute_result"
    }
   ],
   "source": [
    "a1 = np.array([[1,2,3], [2,1,3], [4,2,4]])\n",
    "a2 = np.array([[2,4,4], [3,1,2], [1,2,3]])\n",
    "a1"
   ]
  },
  {
   "cell_type": "code",
   "execution_count": 89,
   "id": "2fe74f7a-6b12-4947-9da1-7bef5ceab25b",
   "metadata": {},
   "outputs": [
    {
     "data": {
      "text/plain": [
       "array([[2, 4, 4],\n",
       "       [3, 1, 2],\n",
       "       [1, 2, 3]])"
      ]
     },
     "execution_count": 89,
     "metadata": {},
     "output_type": "execute_result"
    }
   ],
   "source": [
    "a2"
   ]
  },
  {
   "cell_type": "code",
   "execution_count": 90,
   "id": "6cd52fcb-4255-4544-baed-c885441cf765",
   "metadata": {},
   "outputs": [
    {
     "data": {
      "text/plain": [
       "array([[3, 6, 7],\n",
       "       [5, 2, 5],\n",
       "       [5, 4, 7]])"
      ]
     },
     "execution_count": 90,
     "metadata": {},
     "output_type": "execute_result"
    }
   ],
   "source": [
    "# addition of two matrices\n",
    "a1 + a2"
   ]
  },
  {
   "cell_type": "code",
   "execution_count": 91,
   "id": "b8f5a5a2-f98f-4e75-90a6-0344a503fe8f",
   "metadata": {},
   "outputs": [
    {
     "data": {
      "text/plain": [
       "array([[-1, -2, -1],\n",
       "       [-1,  0,  1],\n",
       "       [ 3,  0,  1]])"
      ]
     },
     "execution_count": 91,
     "metadata": {},
     "output_type": "execute_result"
    }
   ],
   "source": [
    "# subtraction\n",
    "a1 - a2"
   ]
  },
  {
   "cell_type": "code",
   "execution_count": 92,
   "id": "7b5f58cd-23e1-401c-95c4-38d70f78136b",
   "metadata": {},
   "outputs": [
    {
     "data": {
      "text/plain": [
       "array([[ 2,  8, 12],\n",
       "       [ 6,  1,  6],\n",
       "       [ 4,  4, 12]])"
      ]
     },
     "execution_count": 92,
     "metadata": {},
     "output_type": "execute_result"
    }
   ],
   "source": [
    "# multiplication\n",
    "a1 * a2"
   ]
  },
  {
   "cell_type": "code",
   "execution_count": 93,
   "id": "769fb1b0-11e1-4274-bcc2-48cd3f2912f1",
   "metadata": {},
   "outputs": [
    {
     "data": {
      "text/plain": [
       "array([[0.5       , 0.5       , 0.75      ],\n",
       "       [0.66666667, 1.        , 1.5       ],\n",
       "       [4.        , 1.        , 1.33333333]])"
      ]
     },
     "execution_count": 93,
     "metadata": {},
     "output_type": "execute_result"
    }
   ],
   "source": [
    "# division\n",
    "a1 / a2"
   ]
  },
  {
   "cell_type": "code",
   "execution_count": 94,
   "id": "a8e82fe8-799c-40fd-9814-102fbf389712",
   "metadata": {},
   "outputs": [
    {
     "data": {
      "text/plain": [
       "array([[1, 2, 3],\n",
       "       [2, 0, 1],\n",
       "       [0, 0, 1]])"
      ]
     },
     "execution_count": 94,
     "metadata": {},
     "output_type": "execute_result"
    }
   ],
   "source": [
    "# modulus\n",
    "a1 % a2"
   ]
  },
  {
   "cell_type": "code",
   "execution_count": 95,
   "id": "3e8dbdd6-92f4-48e7-be83-3d117237336a",
   "metadata": {},
   "outputs": [
    {
     "data": {
      "text/plain": [
       "array([[ 1, 16, 81],\n",
       "       [ 8,  1,  9],\n",
       "       [ 4,  4, 64]])"
      ]
     },
     "execution_count": 95,
     "metadata": {},
     "output_type": "execute_result"
    }
   ],
   "source": [
    "# power\n",
    "a1 ** a2"
   ]
  },
  {
   "cell_type": "code",
   "execution_count": 96,
   "id": "856b84e4-bb8e-4963-8840-79faa54f82fa",
   "metadata": {},
   "outputs": [
    {
     "data": {
      "text/plain": [
       "array([[False, False, False],\n",
       "       [False, False,  True],\n",
       "       [ True, False,  True]])"
      ]
     },
     "execution_count": 96,
     "metadata": {},
     "output_type": "execute_result"
    }
   ],
   "source": [
    "# operators \n",
    "a1 > a2"
   ]
  },
  {
   "cell_type": "code",
   "execution_count": 97,
   "id": "d91fc2bd-ac0b-4be1-a4e7-ee56aa996eb5",
   "metadata": {},
   "outputs": [
    {
     "data": {
      "text/plain": [
       "array([[0, 0, 0],\n",
       "       [2, 1, 2],\n",
       "       [0, 2, 0]])"
      ]
     },
     "execution_count": 97,
     "metadata": {},
     "output_type": "execute_result"
    }
   ],
   "source": [
    "# bitwise operations\n",
    "a1 & a2"
   ]
  },
  {
   "cell_type": "code",
   "execution_count": 98,
   "id": "a1730501-c391-43ea-92a1-3ade2cf06ec9",
   "metadata": {},
   "outputs": [
    {
     "data": {
      "text/plain": [
       "array([[3, 6, 7],\n",
       "       [3, 1, 3],\n",
       "       [5, 2, 7]])"
      ]
     },
     "execution_count": 98,
     "metadata": {},
     "output_type": "execute_result"
    }
   ],
   "source": [
    "a1 | a2"
   ]
  },
  {
   "cell_type": "code",
   "execution_count": 99,
   "id": "ecd4fd3d-84d0-4d0c-ac97-18f0a2df5f6f",
   "metadata": {},
   "outputs": [
    {
     "data": {
      "text/plain": [
       "array([[3, 6, 7],\n",
       "       [1, 0, 1],\n",
       "       [5, 0, 7]])"
      ]
     },
     "execution_count": 99,
     "metadata": {},
     "output_type": "execute_result"
    }
   ],
   "source": [
    "a1 ^ a2"
   ]
  },
  {
   "cell_type": "code",
   "execution_count": 103,
   "id": "061b2ab3-4ac2-4cc8-b579-9159b11ef640",
   "metadata": {},
   "outputs": [
    {
     "data": {
      "text/plain": [
       "array([[-2, -3, -4],\n",
       "       [-3, -2, -4],\n",
       "       [-5, -3, -5]])"
      ]
     },
     "execution_count": 103,
     "metadata": {},
     "output_type": "execute_result"
    }
   ],
   "source": [
    "~a1"
   ]
  },
  {
   "cell_type": "code",
   "execution_count": 101,
   "id": "9e2fb87d-e176-47fe-9dae-f8a0a9acd71c",
   "metadata": {},
   "outputs": [
    {
     "data": {
      "text/plain": [
       "4"
      ]
     },
     "execution_count": 101,
     "metadata": {},
     "output_type": "execute_result"
    }
   ],
   "source": [
    "# max element from the matrix\n",
    "a1.max()"
   ]
  },
  {
   "cell_type": "code",
   "execution_count": 104,
   "id": "335b2f91-5773-47b3-b57a-9a646888a78e",
   "metadata": {},
   "outputs": [
    {
     "data": {
      "text/plain": [
       "1"
      ]
     },
     "execution_count": 104,
     "metadata": {},
     "output_type": "execute_result"
    }
   ],
   "source": [
    "# min element from the matrix\n",
    "a1.min()"
   ]
  },
  {
   "cell_type": "code",
   "execution_count": 105,
   "id": "07bb9fc7-7ae1-4636-8b4f-d97e130f795d",
   "metadata": {},
   "outputs": [
    {
     "data": {
      "text/plain": [
       "22"
      ]
     },
     "execution_count": 105,
     "metadata": {},
     "output_type": "execute_result"
    }
   ],
   "source": [
    "# sum of all elements\n",
    "a1.sum()"
   ]
  },
  {
   "cell_type": "code",
   "execution_count": 108,
   "id": "d2a7e968-1ce7-4671-888e-5397afc686ee",
   "metadata": {},
   "outputs": [
    {
     "data": {
      "text/plain": [
       "array([[1, 2, 3],\n",
       "       [2, 1, 3],\n",
       "       [4, 2, 4]])"
      ]
     },
     "execution_count": 108,
     "metadata": {},
     "output_type": "execute_result"
    }
   ],
   "source": [
    "a1"
   ]
  },
  {
   "cell_type": "code",
   "execution_count": 111,
   "id": "77bf4216-856a-4051-8a25-e03f79885242",
   "metadata": {},
   "outputs": [
    {
     "data": {
      "text/plain": [
       "(array([0, 1, 2, 2], dtype=int64), array([2, 2, 0, 2], dtype=int64))"
      ]
     },
     "execution_count": 111,
     "metadata": {},
     "output_type": "execute_result"
    }
   ],
   "source": [
    "# Where method\n",
    "\n",
    "# returns a tuple of indices for every axis i.e tuple of rows & columns\n",
    "np.where(a1 > 2) "
   ]
  },
  {
   "cell_type": "code",
   "execution_count": 114,
   "id": "b89eccda-1349-4967-bfa2-78fbf622a2ee",
   "metadata": {},
   "outputs": [
    {
     "data": {
      "text/plain": [
       "9"
      ]
     },
     "execution_count": 114,
     "metadata": {},
     "output_type": "execute_result"
    }
   ],
   "source": [
    "# count_nonzero: returns a count of non zero elements in the array\n",
    "np.count_nonzero(a1)"
   ]
  },
  {
   "cell_type": "code",
   "execution_count": 116,
   "id": "4244f8e5-0cb1-4ba8-aadc-d898353ac2d4",
   "metadata": {},
   "outputs": [
    {
     "data": {
      "text/plain": [
       "(array([0, 0, 0, 1, 1, 1, 2, 2, 2], dtype=int64),\n",
       " array([0, 1, 2, 0, 1, 2, 0, 1, 2], dtype=int64))"
      ]
     },
     "execution_count": 116,
     "metadata": {},
     "output_type": "execute_result"
    }
   ],
   "source": [
    "# nonzero: returns tuple of every axis of indices of non zero element\n",
    "np.nonzero(a1)"
   ]
  },
  {
   "cell_type": "code",
   "execution_count": 119,
   "id": "1b40199d-90c3-468b-ac91-f2d421e438d3",
   "metadata": {},
   "outputs": [],
   "source": [
    "# removes 0,1 from above tuple \n",
    "a1[0,1]=0"
   ]
  },
  {
   "cell_type": "code",
   "execution_count": 120,
   "id": "c6835bf2-220c-4fd7-8642-a9f707ac6fc4",
   "metadata": {},
   "outputs": [
    {
     "data": {
      "text/plain": [
       "(array([0, 0, 1, 1, 1, 2, 2, 2], dtype=int64),\n",
       " array([0, 2, 0, 1, 2, 0, 1, 2], dtype=int64))"
      ]
     },
     "execution_count": 120,
     "metadata": {},
     "output_type": "execute_result"
    }
   ],
   "source": [
    "\n",
    "np.nonzero(a1)"
   ]
  },
  {
   "cell_type": "markdown",
   "id": "e59d560d-adb6-44fa-8797-958a4d5014ed",
   "metadata": {},
   "source": [
    "# Proof that numpy takes less space"
   ]
  },
  {
   "cell_type": "code",
   "execution_count": 121,
   "id": "2c77ab3f-307c-4bf2-b832-68d6800a1ded",
   "metadata": {},
   "outputs": [],
   "source": [
    "import sys"
   ]
  },
  {
   "cell_type": "code",
   "execution_count": 122,
   "id": "a34edc1e-66bb-43c0-ba8b-3d5e36c5bf95",
   "metadata": {},
   "outputs": [],
   "source": [
    "a1 = [1,2,3]"
   ]
  },
  {
   "cell_type": "code",
   "execution_count": 123,
   "id": "068e4f89-eb25-4932-b3e6-b21d837afdb7",
   "metadata": {},
   "outputs": [],
   "source": [
    "arr = np.array(a1)"
   ]
  },
  {
   "cell_type": "code",
   "execution_count": 124,
   "id": "79af6388-5f62-4978-9b08-9892e45b0185",
   "metadata": {},
   "outputs": [
    {
     "data": {
      "text/plain": [
       "84"
      ]
     },
     "execution_count": 124,
     "metadata": {},
     "output_type": "execute_result"
    }
   ],
   "source": [
    "# get the size of item of length\n",
    "sys.getsizeof(1) * len(a1)"
   ]
  },
  {
   "cell_type": "code",
   "execution_count": 125,
   "id": "34cc0b6a-ae9a-4dcf-b55a-eff2e097f613",
   "metadata": {},
   "outputs": [
    {
     "data": {
      "text/plain": [
       "12"
      ]
     },
     "execution_count": 125,
     "metadata": {},
     "output_type": "execute_result"
    }
   ],
   "source": [
    "arr.itemsize * arr.size"
   ]
  },
  {
   "cell_type": "code",
   "execution_count": null,
   "id": "7da51401-62ce-47b3-b9f1-c91396b1b1b3",
   "metadata": {},
   "outputs": [],
   "source": []
  }
 ],
 "metadata": {
  "kernelspec": {
   "display_name": "Python 3 (ipykernel)",
   "language": "python",
   "name": "python3"
  },
  "language_info": {
   "codemirror_mode": {
    "name": "ipython",
    "version": 3
   },
   "file_extension": ".py",
   "mimetype": "text/x-python",
   "name": "python",
   "nbconvert_exporter": "python",
   "pygments_lexer": "ipython3",
   "version": "3.10.5"
  }
 },
 "nbformat": 4,
 "nbformat_minor": 5
}
