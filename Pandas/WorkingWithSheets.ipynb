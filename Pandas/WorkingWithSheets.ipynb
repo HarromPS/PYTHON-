{
 "cells": [
  {
   "cell_type": "markdown",
   "id": "6c059e47-506c-47bf-9b60-4df49697f61f",
   "metadata": {},
   "source": [
    "# Working with Excel Sheets"
   ]
  },
  {
   "cell_type": "code",
   "execution_count": 1,
   "id": "25fb9e4e-acc0-42b5-a29d-161a6c11add9",
   "metadata": {},
   "outputs": [],
   "source": [
    "import os;\n",
    "import pandas as pd;\n",
    "\n",
    "# import xlrd to do operations related to excel sheets\n",
    "import xlrd;"
   ]
  },
  {
   "cell_type": "code",
   "execution_count": 2,
   "id": "ca4c50d2-00bf-404f-b94b-8f838dea8d74",
   "metadata": {},
   "outputs": [],
   "source": [
    "lst  = os.listdir(\"./\");"
   ]
  },
  {
   "cell_type": "code",
   "execution_count": 3,
   "id": "4cfed7c7-1c50-413b-936b-e8329aea793c",
   "metadata": {},
   "outputs": [
    {
     "name": "stdout",
     "output_type": "stream",
     "text": [
      "['.ipynb_checkpoints', 'first.ipynb', 'Pandas_series_datagrames.ipynb', 'Sheet2.xlsx', 'Sheets', 'WorkingWithSheets.ipynb', '~$Sheet2.xlsx']\n"
     ]
    }
   ],
   "source": [
    "print(lst)"
   ]
  },
  {
   "cell_type": "code",
   "execution_count": 4,
   "id": "8594d7d6-d8b3-4644-ae05-b7ff935bf1e5",
   "metadata": {},
   "outputs": [],
   "source": [
    "data = pd.read_excel('Sheet2.xlsx');"
   ]
  },
  {
   "cell_type": "code",
   "execution_count": 5,
   "id": "9382d4a8-8b5c-4a22-a26b-66961c146094",
   "metadata": {},
   "outputs": [
    {
     "data": {
      "text/html": [
       "<div>\n",
       "<style scoped>\n",
       "    .dataframe tbody tr th:only-of-type {\n",
       "        vertical-align: middle;\n",
       "    }\n",
       "\n",
       "    .dataframe tbody tr th {\n",
       "        vertical-align: top;\n",
       "    }\n",
       "\n",
       "    .dataframe thead th {\n",
       "        text-align: right;\n",
       "    }\n",
       "</style>\n",
       "<table border=\"1\" class=\"dataframe\">\n",
       "  <thead>\n",
       "    <tr style=\"text-align: right;\">\n",
       "      <th></th>\n",
       "      <th>Train Nos</th>\n",
       "      <th>Speed</th>\n",
       "      <th>City</th>\n",
       "    </tr>\n",
       "  </thead>\n",
       "  <tbody>\n",
       "    <tr>\n",
       "      <th>0</th>\n",
       "      <td>1212</td>\n",
       "      <td>40</td>\n",
       "      <td>Rampur</td>\n",
       "    </tr>\n",
       "    <tr>\n",
       "      <th>1</th>\n",
       "      <td>2323</td>\n",
       "      <td>29</td>\n",
       "      <td>Kolkata</td>\n",
       "    </tr>\n",
       "    <tr>\n",
       "      <th>2</th>\n",
       "      <td>4324</td>\n",
       "      <td>60</td>\n",
       "      <td>Delhi</td>\n",
       "    </tr>\n",
       "    <tr>\n",
       "      <th>3</th>\n",
       "      <td>3434</td>\n",
       "      <td>80</td>\n",
       "      <td>Agra</td>\n",
       "    </tr>\n",
       "  </tbody>\n",
       "</table>\n",
       "</div>"
      ],
      "text/plain": [
       "   Train Nos  Speed     City\n",
       "0       1212     40   Rampur\n",
       "1       2323     29  Kolkata\n",
       "2       4324     60    Delhi\n",
       "3       3434     80     Agra"
      ]
     },
     "execution_count": 5,
     "metadata": {},
     "output_type": "execute_result"
    }
   ],
   "source": [
    "data"
   ]
  },
  {
   "cell_type": "code",
   "execution_count": 8,
   "id": "8c0852f0-acae-410d-ad74-0d45580dd239",
   "metadata": {},
   "outputs": [],
   "source": [
    "# to read different sheets in a file\n",
    "data = pd.read_excel('Sheet2.xlsx', sheet_name=\"newsheets\");"
   ]
  },
  {
   "cell_type": "code",
   "execution_count": 9,
   "id": "869e1e4c-8f97-4818-b568-e65d403595dc",
   "metadata": {},
   "outputs": [
    {
     "data": {
      "text/html": [
       "<div>\n",
       "<style scoped>\n",
       "    .dataframe tbody tr th:only-of-type {\n",
       "        vertical-align: middle;\n",
       "    }\n",
       "\n",
       "    .dataframe tbody tr th {\n",
       "        vertical-align: top;\n",
       "    }\n",
       "\n",
       "    .dataframe thead th {\n",
       "        text-align: right;\n",
       "    }\n",
       "</style>\n",
       "<table border=\"1\" class=\"dataframe\">\n",
       "  <thead>\n",
       "    <tr style=\"text-align: right;\">\n",
       "      <th></th>\n",
       "      <th>Bus nos</th>\n",
       "      <th>Road</th>\n",
       "      <th>City</th>\n",
       "    </tr>\n",
       "  </thead>\n",
       "  <tbody>\n",
       "    <tr>\n",
       "      <th>0</th>\n",
       "      <td>112</td>\n",
       "      <td>40</td>\n",
       "      <td>Rampur</td>\n",
       "    </tr>\n",
       "    <tr>\n",
       "      <th>1</th>\n",
       "      <td>12</td>\n",
       "      <td>29</td>\n",
       "      <td>Kolkata</td>\n",
       "    </tr>\n",
       "    <tr>\n",
       "      <th>2</th>\n",
       "      <td>13</td>\n",
       "      <td>60</td>\n",
       "      <td>Delhi</td>\n",
       "    </tr>\n",
       "    <tr>\n",
       "      <th>3</th>\n",
       "      <td>13</td>\n",
       "      <td>80</td>\n",
       "      <td>Agra</td>\n",
       "    </tr>\n",
       "  </tbody>\n",
       "</table>\n",
       "</div>"
      ],
      "text/plain": [
       "   Bus nos  Road     City\n",
       "0      112    40   Rampur\n",
       "1       12    29  Kolkata\n",
       "2       13    60    Delhi\n",
       "3       13    80     Agra"
      ]
     },
     "execution_count": 9,
     "metadata": {},
     "output_type": "execute_result"
    }
   ],
   "source": [
    "data "
   ]
  },
  {
   "cell_type": "code",
   "execution_count": 12,
   "id": "d841dbe3-c698-4c37-80cf-97a81657909c",
   "metadata": {},
   "outputs": [],
   "source": [
    "# change the data\n",
    "data.iloc[0,0]=1000"
   ]
  },
  {
   "cell_type": "code",
   "execution_count": 11,
   "id": "265bd144-a88a-4689-9e2c-5cb87c234cf0",
   "metadata": {},
   "outputs": [
    {
     "data": {
      "text/html": [
       "<div>\n",
       "<style scoped>\n",
       "    .dataframe tbody tr th:only-of-type {\n",
       "        vertical-align: middle;\n",
       "    }\n",
       "\n",
       "    .dataframe tbody tr th {\n",
       "        vertical-align: top;\n",
       "    }\n",
       "\n",
       "    .dataframe thead th {\n",
       "        text-align: right;\n",
       "    }\n",
       "</style>\n",
       "<table border=\"1\" class=\"dataframe\">\n",
       "  <thead>\n",
       "    <tr style=\"text-align: right;\">\n",
       "      <th></th>\n",
       "      <th>Bus nos</th>\n",
       "      <th>Road</th>\n",
       "      <th>City</th>\n",
       "    </tr>\n",
       "  </thead>\n",
       "  <tbody>\n",
       "    <tr>\n",
       "      <th>0</th>\n",
       "      <td>1000</td>\n",
       "      <td>40</td>\n",
       "      <td>Rampur</td>\n",
       "    </tr>\n",
       "    <tr>\n",
       "      <th>1</th>\n",
       "      <td>12</td>\n",
       "      <td>29</td>\n",
       "      <td>Kolkata</td>\n",
       "    </tr>\n",
       "    <tr>\n",
       "      <th>2</th>\n",
       "      <td>13</td>\n",
       "      <td>60</td>\n",
       "      <td>Delhi</td>\n",
       "    </tr>\n",
       "    <tr>\n",
       "      <th>3</th>\n",
       "      <td>13</td>\n",
       "      <td>80</td>\n",
       "      <td>Agra</td>\n",
       "    </tr>\n",
       "  </tbody>\n",
       "</table>\n",
       "</div>"
      ],
      "text/plain": [
       "   Bus nos  Road     City\n",
       "0     1000    40   Rampur\n",
       "1       12    29  Kolkata\n",
       "2       13    60    Delhi\n",
       "3       13    80     Agra"
      ]
     },
     "execution_count": 11,
     "metadata": {},
     "output_type": "execute_result"
    }
   ],
   "source": [
    "data"
   ]
  },
  {
   "cell_type": "code",
   "execution_count": null,
   "id": "827afa83-fc77-4b6c-a05d-08fed21c7af2",
   "metadata": {},
   "outputs": [],
   "source": []
  }
 ],
 "metadata": {
  "kernelspec": {
   "display_name": "Python 3 (ipykernel)",
   "language": "python",
   "name": "python3"
  },
  "language_info": {
   "codemirror_mode": {
    "name": "ipython",
    "version": 3
   },
   "file_extension": ".py",
   "mimetype": "text/x-python",
   "name": "python",
   "nbconvert_exporter": "python",
   "pygments_lexer": "ipython3",
   "version": "3.10.5"
  }
 },
 "nbformat": 4,
 "nbformat_minor": 5
}
