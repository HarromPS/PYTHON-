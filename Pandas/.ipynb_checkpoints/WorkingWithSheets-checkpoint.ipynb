{
 "cells": [
  {
   "cell_type": "markdown",
   "id": "6c059e47-506c-47bf-9b60-4df49697f61f",
   "metadata": {},
   "source": [
    "# Working with Excel Sheets"
   ]
  },
  {
   "cell_type": "code",
   "execution_count": 1,
   "id": "25fb9e4e-acc0-42b5-a29d-161a6c11add9",
   "metadata": {},
   "outputs": [],
   "source": [
    "import os\n",
    "\n",
    "# import xlrd to do operations related to excel sheets\n",
    "import xlrd "
   ]
  },
  {
   "cell_type": "code",
   "execution_count": 3,
   "id": "ca4c50d2-00bf-404f-b94b-8f838dea8d74",
   "metadata": {},
   "outputs": [],
   "source": [
    "lst  = os.listdir(\"./\");"
   ]
  },
  {
   "cell_type": "code",
   "execution_count": 4,
   "id": "4cfed7c7-1c50-413b-936b-e8329aea793c",
   "metadata": {},
   "outputs": [
    {
     "name": "stdout",
     "output_type": "stream",
     "text": [
      "['.ipynb_checkpoints', 'first.ipynb', 'New Microsoft Excel Worksheet.xlsx', 'Pandas_series_datagrames.ipynb', 'Sheet2.xlsx', 'Sheets', 'WorkingWithSheets.ipynb', '~$Sheet2.xlsx']\n"
     ]
    }
   ],
   "source": [
    "print(lst)"
   ]
  },
  {
   "cell_type": "code",
   "execution_count": null,
   "id": "8594d7d6-d8b3-4644-ae05-b7ff935bf1e5",
   "metadata": {},
   "outputs": [],
   "source": []
  }
 ],
 "metadata": {
  "kernelspec": {
   "display_name": "Python 3 (ipykernel)",
   "language": "python",
   "name": "python3"
  },
  "language_info": {
   "codemirror_mode": {
    "name": "ipython",
    "version": 3
   },
   "file_extension": ".py",
   "mimetype": "text/x-python",
   "name": "python",
   "nbconvert_exporter": "python",
   "pygments_lexer": "ipython3",
   "version": "3.10.5"
  }
 },
 "nbformat": 4,
 "nbformat_minor": 5
}
