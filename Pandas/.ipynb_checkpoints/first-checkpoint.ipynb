{
 "cells": [
  {
   "cell_type": "code",
   "execution_count": 3,
   "id": "fa6a9f2a-11ee-406e-9a8b-d156b43af4fe",
   "metadata": {},
   "outputs": [],
   "source": [
    "# import data analysis libraries \n",
    "import pandas as pd\n",
    "import numpy as np"
   ]
  },
  {
   "cell_type": "code",
   "execution_count": 2,
   "id": "328b9701-dee8-4f68-aa1f-165a1b0420a5",
   "metadata": {},
   "outputs": [],
   "source": [
    "# let us create a dataframe i.e a table with head row & values for each column\n",
    "\n",
    "dict1 = {\n",
    "    \"name\" : [\"amit\", \"rohan\", \"skillf\", \"shubh\"],\n",
    "    \"marks\": [92, 34, 24, 17],\n",
    "    \"city\": ['rampur', 'kolkata', 'bareilly', ' antarctica']\n",
    "}"
   ]
  },
  {
   "cell_type": "code",
   "execution_count": 8,
   "id": "d0cd9e7a-09c2-4bb0-88df-e6286b0b77c0",
   "metadata": {},
   "outputs": [],
   "source": [
    "# now the dataframes is like an exel sheet, converting to excel sheet, for faster indexing\n",
    "dataframes = pd.DataFrame(dict1);"
   ]
  },
  {
   "cell_type": "code",
   "execution_count": 35,
   "id": "7f0f08ac-cbae-4257-95ec-f80a42ab7aec",
   "metadata": {},
   "outputs": [
    {
     "name": "stdout",
     "output_type": "stream",
     "text": [
      "     name  marks         city\n",
      "0    amit     92       rampur\n",
      "1   rohan     34      kolkata\n",
      "2  skillf     24     bareilly\n",
      "3   shubh     17   antarctica\n",
      "<class 'pandas.core.frame.DataFrame'>\n"
     ]
    }
   ],
   "source": [
    "# printing the dataframes\n",
    "print(dataframes);\n",
    "# type of dataframe = 'pandas.core.frame.DataFrame'\n",
    "print(type(dataframes));"
   ]
  },
  {
   "cell_type": "code",
   "execution_count": 23,
   "id": "090b38b8-1838-42b6-b440-10448d375a5d",
   "metadata": {},
   "outputs": [
    {
     "data": {
      "text/html": [
       "<div>\n",
       "<style scoped>\n",
       "    .dataframe tbody tr th:only-of-type {\n",
       "        vertical-align: middle;\n",
       "    }\n",
       "\n",
       "    .dataframe tbody tr th {\n",
       "        vertical-align: top;\n",
       "    }\n",
       "\n",
       "    .dataframe thead th {\n",
       "        text-align: right;\n",
       "    }\n",
       "</style>\n",
       "<table border=\"1\" class=\"dataframe\">\n",
       "  <thead>\n",
       "    <tr style=\"text-align: right;\">\n",
       "      <th></th>\n",
       "      <th>name</th>\n",
       "      <th>marks</th>\n",
       "      <th>city</th>\n",
       "    </tr>\n",
       "  </thead>\n",
       "  <tbody>\n",
       "    <tr>\n",
       "      <th>0</th>\n",
       "      <td>amit</td>\n",
       "      <td>92</td>\n",
       "      <td>rampur</td>\n",
       "    </tr>\n",
       "    <tr>\n",
       "      <th>1</th>\n",
       "      <td>rohan</td>\n",
       "      <td>34</td>\n",
       "      <td>kolkata</td>\n",
       "    </tr>\n",
       "    <tr>\n",
       "      <th>2</th>\n",
       "      <td>skillf</td>\n",
       "      <td>24</td>\n",
       "      <td>bareilly</td>\n",
       "    </tr>\n",
       "    <tr>\n",
       "      <th>3</th>\n",
       "      <td>shubh</td>\n",
       "      <td>17</td>\n",
       "      <td>antarctica</td>\n",
       "    </tr>\n",
       "  </tbody>\n",
       "</table>\n",
       "</div>"
      ],
      "text/plain": [
       "     name  marks         city\n",
       "0    amit     92       rampur\n",
       "1   rohan     34      kolkata\n",
       "2  skillf     24     bareilly\n",
       "3   shubh     17   antarctica"
      ]
     },
     "execution_count": 23,
     "metadata": {},
     "output_type": "execute_result"
    }
   ],
   "source": [
    "dataframes"
   ]
  },
  {
   "cell_type": "code",
   "execution_count": 16,
   "id": "9b4dd5a9-35b1-4620-ae7a-f909e9321ab6",
   "metadata": {},
   "outputs": [],
   "source": [
    "# now exporting the dataframes as excel/csv file\n",
    "\n",
    "dataframes.to_csv(\"studMarks.csv\");"
   ]
  },
  {
   "cell_type": "code",
   "execution_count": 17,
   "id": "66145f0d-ffd6-4c82-8f26-4d5be6621c44",
   "metadata": {},
   "outputs": [],
   "source": [
    "# exporting the dataframes as csv file without indexing\n",
    "dataframes.to_csv(\"studMarks_index_false.csv\", index=False);"
   ]
  },
  {
   "cell_type": "code",
   "execution_count": 37,
   "id": "df4031a3-47d3-4657-a247-90db1d4cd077",
   "metadata": {},
   "outputs": [
    {
     "name": "stdout",
     "output_type": "stream",
     "text": [
      "    name  marks     city\n",
      "0   amit     92   rampur\n",
      "1  rohan     34  kolkata\n"
     ]
    },
    {
     "data": {
      "text/html": [
       "<div>\n",
       "<style scoped>\n",
       "    .dataframe tbody tr th:only-of-type {\n",
       "        vertical-align: middle;\n",
       "    }\n",
       "\n",
       "    .dataframe tbody tr th {\n",
       "        vertical-align: top;\n",
       "    }\n",
       "\n",
       "    .dataframe thead th {\n",
       "        text-align: right;\n",
       "    }\n",
       "</style>\n",
       "<table border=\"1\" class=\"dataframe\">\n",
       "  <thead>\n",
       "    <tr style=\"text-align: right;\">\n",
       "      <th></th>\n",
       "      <th>name</th>\n",
       "      <th>marks</th>\n",
       "      <th>city</th>\n",
       "    </tr>\n",
       "  </thead>\n",
       "  <tbody>\n",
       "    <tr>\n",
       "      <th>0</th>\n",
       "      <td>amit</td>\n",
       "      <td>92</td>\n",
       "      <td>rampur</td>\n",
       "    </tr>\n",
       "    <tr>\n",
       "      <th>1</th>\n",
       "      <td>rohan</td>\n",
       "      <td>34</td>\n",
       "      <td>kolkata</td>\n",
       "    </tr>\n",
       "  </tbody>\n",
       "</table>\n",
       "</div>"
      ],
      "text/plain": [
       "    name  marks     city\n",
       "0   amit     92   rampur\n",
       "1  rohan     34  kolkata"
      ]
     },
     "execution_count": 37,
     "metadata": {},
     "output_type": "execute_result"
    }
   ],
   "source": [
    "# to see few rows from 1st or last when data is very big\n",
    "\n",
    "# will show 1st 2 rows/indexes\n",
    "top = dataframes.head(2);\n",
    "print(top);\n",
    "\n",
    "# Note: due to Semicolon output of the cell is supressed, so remove the semicolon to see the output\n",
    "dataframes.head(2)"
   ]
  },
  {
   "cell_type": "code",
   "execution_count": 38,
   "id": "15412eca-b005-4d34-99ea-105ccee78086",
   "metadata": {},
   "outputs": [
    {
     "data": {
      "text/html": [
       "<div>\n",
       "<style scoped>\n",
       "    .dataframe tbody tr th:only-of-type {\n",
       "        vertical-align: middle;\n",
       "    }\n",
       "\n",
       "    .dataframe tbody tr th {\n",
       "        vertical-align: top;\n",
       "    }\n",
       "\n",
       "    .dataframe thead th {\n",
       "        text-align: right;\n",
       "    }\n",
       "</style>\n",
       "<table border=\"1\" class=\"dataframe\">\n",
       "  <thead>\n",
       "    <tr style=\"text-align: right;\">\n",
       "      <th></th>\n",
       "      <th>name</th>\n",
       "      <th>marks</th>\n",
       "      <th>city</th>\n",
       "    </tr>\n",
       "  </thead>\n",
       "  <tbody>\n",
       "    <tr>\n",
       "      <th>2</th>\n",
       "      <td>skillf</td>\n",
       "      <td>24</td>\n",
       "      <td>bareilly</td>\n",
       "    </tr>\n",
       "    <tr>\n",
       "      <th>3</th>\n",
       "      <td>shubh</td>\n",
       "      <td>17</td>\n",
       "      <td>antarctica</td>\n",
       "    </tr>\n",
       "  </tbody>\n",
       "</table>\n",
       "</div>"
      ],
      "text/plain": [
       "     name  marks         city\n",
       "2  skillf     24     bareilly\n",
       "3   shubh     17   antarctica"
      ]
     },
     "execution_count": 38,
     "metadata": {},
     "output_type": "execute_result"
    }
   ],
   "source": [
    "# will show 1st 2 rows/indexes\n",
    "dataframes.tail(2)"
   ]
  },
  {
   "cell_type": "code",
   "execution_count": 40,
   "id": "22c8c3dc-b541-49d7-b803-93ae04177db3",
   "metadata": {},
   "outputs": [
    {
     "data": {
      "text/html": [
       "<div>\n",
       "<style scoped>\n",
       "    .dataframe tbody tr th:only-of-type {\n",
       "        vertical-align: middle;\n",
       "    }\n",
       "\n",
       "    .dataframe tbody tr th {\n",
       "        vertical-align: top;\n",
       "    }\n",
       "\n",
       "    .dataframe thead th {\n",
       "        text-align: right;\n",
       "    }\n",
       "</style>\n",
       "<table border=\"1\" class=\"dataframe\">\n",
       "  <thead>\n",
       "    <tr style=\"text-align: right;\">\n",
       "      <th></th>\n",
       "      <th>marks</th>\n",
       "    </tr>\n",
       "  </thead>\n",
       "  <tbody>\n",
       "    <tr>\n",
       "      <th>count</th>\n",
       "      <td>4.00000</td>\n",
       "    </tr>\n",
       "    <tr>\n",
       "      <th>mean</th>\n",
       "      <td>41.75000</td>\n",
       "    </tr>\n",
       "    <tr>\n",
       "      <th>std</th>\n",
       "      <td>34.21866</td>\n",
       "    </tr>\n",
       "    <tr>\n",
       "      <th>min</th>\n",
       "      <td>17.00000</td>\n",
       "    </tr>\n",
       "    <tr>\n",
       "      <th>25%</th>\n",
       "      <td>22.25000</td>\n",
       "    </tr>\n",
       "    <tr>\n",
       "      <th>50%</th>\n",
       "      <td>29.00000</td>\n",
       "    </tr>\n",
       "    <tr>\n",
       "      <th>75%</th>\n",
       "      <td>48.50000</td>\n",
       "    </tr>\n",
       "    <tr>\n",
       "      <th>max</th>\n",
       "      <td>92.00000</td>\n",
       "    </tr>\n",
       "  </tbody>\n",
       "</table>\n",
       "</div>"
      ],
      "text/plain": [
       "          marks\n",
       "count   4.00000\n",
       "mean   41.75000\n",
       "std    34.21866\n",
       "min    17.00000\n",
       "25%    22.25000\n",
       "50%    29.00000\n",
       "75%    48.50000\n",
       "max    92.00000"
      ]
     },
     "execution_count": 40,
     "metadata": {},
     "output_type": "execute_result"
    }
   ],
   "source": [
    "# statistics of dataframes\n",
    "\n",
    "# will show all the statistical data of Numberical rows of the dataframes\n",
    "dataframes.describe()"
   ]
  },
  {
   "cell_type": "code",
   "execution_count": 46,
   "id": "6e77fd57-f77d-40bf-b0ad-6a7c4a08c0cd",
   "metadata": {},
   "outputs": [],
   "source": [
    "# to read a csv file\n",
    "\n",
    "# pd = pandas\n",
    "file = pd.read_csv(\"trainTicket.csv\")"
   ]
  },
  {
   "cell_type": "code",
   "execution_count": 47,
   "id": "01b3a429-0e7c-43b0-a1e7-47d84fc21962",
   "metadata": {},
   "outputs": [
    {
     "data": {
      "text/html": [
       "<div>\n",
       "<style scoped>\n",
       "    .dataframe tbody tr th:only-of-type {\n",
       "        vertical-align: middle;\n",
       "    }\n",
       "\n",
       "    .dataframe tbody tr th {\n",
       "        vertical-align: top;\n",
       "    }\n",
       "\n",
       "    .dataframe thead th {\n",
       "        text-align: right;\n",
       "    }\n",
       "</style>\n",
       "<table border=\"1\" class=\"dataframe\">\n",
       "  <thead>\n",
       "    <tr style=\"text-align: right;\">\n",
       "      <th></th>\n",
       "      <th>Train id</th>\n",
       "      <th>speed</th>\n",
       "      <th>city</th>\n",
       "    </tr>\n",
       "  </thead>\n",
       "  <tbody>\n",
       "    <tr>\n",
       "      <th>0</th>\n",
       "      <td>1210</td>\n",
       "      <td>21</td>\n",
       "      <td>rampur</td>\n",
       "    </tr>\n",
       "    <tr>\n",
       "      <th>1</th>\n",
       "      <td>3231</td>\n",
       "      <td>43</td>\n",
       "      <td>kolkata</td>\n",
       "    </tr>\n",
       "    <tr>\n",
       "      <th>2</th>\n",
       "      <td>4432</td>\n",
       "      <td>123</td>\n",
       "      <td>bareilly</td>\n",
       "    </tr>\n",
       "    <tr>\n",
       "      <th>3</th>\n",
       "      <td>3422</td>\n",
       "      <td>17</td>\n",
       "      <td>antarctica</td>\n",
       "    </tr>\n",
       "  </tbody>\n",
       "</table>\n",
       "</div>"
      ],
      "text/plain": [
       "   Train id  speed         city\n",
       "0      1210     21       rampur\n",
       "1      3231     43      kolkata\n",
       "2      4432    123     bareilly\n",
       "3      3422     17   antarctica"
      ]
     },
     "execution_count": 47,
     "metadata": {},
     "output_type": "execute_result"
    }
   ],
   "source": [
    "file"
   ]
  },
  {
   "cell_type": "code",
   "execution_count": 49,
   "id": "f608e5d7-a4f0-4c20-8039-be3186909d44",
   "metadata": {},
   "outputs": [
    {
     "data": {
      "text/plain": [
       "0     21\n",
       "1     43\n",
       "2    123\n",
       "3     17\n",
       "Name: speed, dtype: int64"
      ]
     },
     "execution_count": 49,
     "metadata": {},
     "output_type": "execute_result"
    }
   ],
   "source": [
    "# to access a particular column\n",
    "file['speed']"
   ]
  },
  {
   "cell_type": "code",
   "execution_count": 50,
   "id": "58e48ebf-475f-4b66-9493-243d288086ab",
   "metadata": {},
   "outputs": [
    {
     "data": {
      "text/plain": [
       "21"
      ]
     },
     "execution_count": 50,
     "metadata": {},
     "output_type": "execute_result"
    }
   ],
   "source": [
    "# to access a particular cell value of the dataframe\n",
    "file['speed'][0]"
   ]
  },
  {
   "cell_type": "code",
   "execution_count": 51,
   "id": "85e48499-336d-478f-9d74-f931129a42fc",
   "metadata": {},
   "outputs": [
    {
     "name": "stderr",
     "output_type": "stream",
     "text": [
      "C:\\Users\\shivh\\AppData\\Local\\Temp\\ipykernel_9756\\2057342337.py:2: SettingWithCopyWarning: \n",
      "A value is trying to be set on a copy of a slice from a DataFrame\n",
      "\n",
      "See the caveats in the documentation: https://pandas.pydata.org/pandas-docs/stable/user_guide/indexing.html#returning-a-view-versus-a-copy\n",
      "  file['speed'][0] = 100\n"
     ]
    }
   ],
   "source": [
    "# to change the value of a particular cell\n",
    "\n",
    "# not recommended\n",
    "file['speed'][0] = 100"
   ]
  },
  {
   "cell_type": "code",
   "execution_count": 55,
   "id": "fe2ad141-10af-4444-ac6f-01dc42e2e723",
   "metadata": {},
   "outputs": [],
   "source": [
    "# now we have to update the value into the file also\n",
    "# so save the dataframe with same filename but first see if the file is already open\n",
    "file.to_csv('trainTicket.csv');"
   ]
  },
  {
   "cell_type": "code",
   "execution_count": 58,
   "id": "9941afa0-8670-41e9-b9bb-0638824114f8",
   "metadata": {},
   "outputs": [],
   "source": [
    "# to change the indexes \n",
    "# can be string or any numeric value\n",
    "\n",
    "file.index = ['one', 'two', 'three', 'four']"
   ]
  },
  {
   "cell_type": "code",
   "execution_count": 59,
   "id": "75656f3e-edbe-498d-aa9a-305abd648e58",
   "metadata": {},
   "outputs": [
    {
     "data": {
      "text/html": [
       "<div>\n",
       "<style scoped>\n",
       "    .dataframe tbody tr th:only-of-type {\n",
       "        vertical-align: middle;\n",
       "    }\n",
       "\n",
       "    .dataframe tbody tr th {\n",
       "        vertical-align: top;\n",
       "    }\n",
       "\n",
       "    .dataframe thead th {\n",
       "        text-align: right;\n",
       "    }\n",
       "</style>\n",
       "<table border=\"1\" class=\"dataframe\">\n",
       "  <thead>\n",
       "    <tr style=\"text-align: right;\">\n",
       "      <th></th>\n",
       "      <th>Train id</th>\n",
       "      <th>speed</th>\n",
       "      <th>city</th>\n",
       "    </tr>\n",
       "  </thead>\n",
       "  <tbody>\n",
       "    <tr>\n",
       "      <th>one</th>\n",
       "      <td>1210</td>\n",
       "      <td>100</td>\n",
       "      <td>rampur</td>\n",
       "    </tr>\n",
       "    <tr>\n",
       "      <th>two</th>\n",
       "      <td>3231</td>\n",
       "      <td>43</td>\n",
       "      <td>kolkata</td>\n",
       "    </tr>\n",
       "    <tr>\n",
       "      <th>three</th>\n",
       "      <td>4432</td>\n",
       "      <td>123</td>\n",
       "      <td>bareilly</td>\n",
       "    </tr>\n",
       "    <tr>\n",
       "      <th>four</th>\n",
       "      <td>3422</td>\n",
       "      <td>17</td>\n",
       "      <td>antarctica</td>\n",
       "    </tr>\n",
       "  </tbody>\n",
       "</table>\n",
       "</div>"
      ],
      "text/plain": [
       "       Train id  speed         city\n",
       "one        1210    100       rampur\n",
       "two        3231     43      kolkata\n",
       "three      4432    123     bareilly\n",
       "four       3422     17   antarctica"
      ]
     },
     "execution_count": 59,
     "metadata": {},
     "output_type": "execute_result"
    }
   ],
   "source": [
    "file"
   ]
  },
  {
   "cell_type": "code",
   "execution_count": null,
   "id": "8625f65e-5cf6-4918-b9ab-2c308ff6f857",
   "metadata": {},
   "outputs": [],
   "source": []
  }
 ],
 "metadata": {
  "kernelspec": {
   "display_name": "Python 3 (ipykernel)",
   "language": "python",
   "name": "python3"
  },
  "language_info": {
   "codemirror_mode": {
    "name": "ipython",
    "version": 3
   },
   "file_extension": ".py",
   "mimetype": "text/x-python",
   "name": "python",
   "nbconvert_exporter": "python",
   "pygments_lexer": "ipython3",
   "version": "3.10.5"
  }
 },
 "nbformat": 4,
 "nbformat_minor": 5
}
